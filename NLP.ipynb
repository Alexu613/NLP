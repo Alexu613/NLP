{
  "nbformat": 4,
  "nbformat_minor": 0,
  "metadata": {
    "colab": {
      "provenance": [],
      "authorship_tag": "ABX9TyMCcyWtcdgddDOsj8I+j7u8",
      "include_colab_link": true
    },
    "kernelspec": {
      "name": "python3",
      "display_name": "Python 3"
    },
    "language_info": {
      "name": "python"
    }
  },
  "cells": [
    {
      "cell_type": "markdown",
      "metadata": {
        "id": "view-in-github",
        "colab_type": "text"
      },
      "source": [
        "<a href=\"https://colab.research.google.com/github/Alexu613/NLP/blob/main/NLP.ipynb\" target=\"_parent\"><img src=\"https://colab.research.google.com/assets/colab-badge.svg\" alt=\"Open In Colab\"/></a>"
      ]
    },
    {
      "cell_type": "code",
      "execution_count": 1,
      "metadata": {
        "id": "Cd0_omTeENJU"
      },
      "outputs": [],
      "source": [
        "### Natural Language Processing (NLP) :"
      ]
    },
    {
      "cell_type": "markdown",
      "source": [
        "### Natural Language Processing (NLP) :"
      ],
      "metadata": {
        "id": "AvPcg6JkEpw-"
      }
    },
    {
      "cell_type": "markdown",
      "source": [
        "    Introduction to Natural Language Processing (NLP) :\n",
        "\n",
        "Natural Language Processing (NLP) is a field of Artificial Intelligence (AI) that focuses on enabling computers to understand, interpret, and generate human language. This includes tasks like:\n",
        "\n",
        "Understanding text: Extracting meaning, identifying topics, and analyzing sentiment from written text.\n",
        "Processing speech: Converting spoken language into text and understanding its meaning.\n",
        "Generating language: Creating human-like text, such as translations or summaries.\n",
        "NLP is used in various applications, such as chatbots, virtual assistants, and search engines, to improve human-computer interaction."
      ],
      "metadata": {
        "id": "f3bwbaYTE-sA"
      }
    },
    {
      "cell_type": "code",
      "source": [
        "import pandas as pd\n",
        "import numpy as np\n",
        "import matplotlib.pyplot as plt\n",
        "import random\n",
        "import spacy\n",
        "import warnings\n",
        "warnings.filterwarnings('ignore')\n",
        "%matplotlib inline\n",
        "\n",
        "from nltk.tokenize import word_tokenize\n",
        "from nltk.tokenize import sent_tokenize\n",
        "from collections import Counter"
      ],
      "metadata": {
        "id": "yt8zN-uGEZEf"
      },
      "execution_count": 22,
      "outputs": []
    },
    {
      "cell_type": "code",
      "source": [
        "import nltk\n",
        "nltk.download('punkt_tab')"
      ],
      "metadata": {
        "colab": {
          "base_uri": "https://localhost:8080/"
        },
        "id": "R56Ip62rhOEG",
        "outputId": "a936e81c-94c8-4d46-9c9c-c8c45f473811"
      },
      "execution_count": 23,
      "outputs": [
        {
          "output_type": "stream",
          "name": "stderr",
          "text": [
            "[nltk_data] Downloading package punkt_tab to /root/nltk_data...\n",
            "[nltk_data]   Unzipping tokenizers/punkt_tab.zip.\n"
          ]
        },
        {
          "output_type": "execute_result",
          "data": {
            "text/plain": [
              "True"
            ]
          },
          "metadata": {},
          "execution_count": 23
        }
      ]
    },
    {
      "cell_type": "markdown",
      "source": [
        "### Tokenization"
      ],
      "metadata": {
        "id": "_oFof3IVHiW4"
      }
    },
    {
      "cell_type": "markdown",
      "source": [
        "    Art of the Tokenization :\n",
        "\n",
        "**What is Tokenization?**\n",
        "\n",
        "Imagine you have a sentence like: *`\"The quick brown fox jumps over the lazy dog.\"`*\n",
        "\n",
        "Tokenization is like breaking this sentence into smaller pieces called \"tokens.\" These tokens can be words, punctuation marks, or even parts of words.\n",
        "\n",
        "**Why is Tokenization Important?**\n",
        "\n",
        "Tokenization is the first step in many NLP tasks. By breaking down text into smaller units, computers can understand and process language more easily. It's like teaching a computer to read word by word, just like you learned to read when you were younger!\n",
        "\n",
        "**In Simple Words:**\n",
        "\n",
        "Tokenization is like cutting a sentence into individual words and punctuation marks. It's an important step in helping computers understand human language.\n"
      ],
      "metadata": {
        "id": "MKGPicjeH9tq"
      }
    },
    {
      "cell_type": "code",
      "source": [
        "# Starting with a random text:\n",
        "text = \"Wow! The weather today is amazing - 75 degrees and sunny. Perfect for a picnic, don't you think? I'm bringing sandwiches & lemonade; you bring the frisbee!\"\n",
        "tokenization = word_tokenize(text)\n",
        "print('Tokenization Result : {}'.format(tokenization))"
      ],
      "metadata": {
        "colab": {
          "base_uri": "https://localhost:8080/"
        },
        "id": "PGUjiYzfF9GP",
        "outputId": "589674c5-d6e8-4c8f-98f7-8dab7c0aaee8"
      },
      "execution_count": 24,
      "outputs": [
        {
          "output_type": "stream",
          "name": "stdout",
          "text": [
            "Tokenization Result : ['Wow', '!', 'The', 'weather', 'today', 'is', 'amazing', '-', '75', 'degrees', 'and', 'sunny', '.', 'Perfect', 'for', 'a', 'picnic', ',', 'do', \"n't\", 'you', 'think', '?', 'I', \"'m\", 'bringing', 'sandwiches', '&', 'lemonade', ';', 'you', 'bring', 'the', 'frisbee', '!']\n"
          ]
        }
      ]
    },
    {
      "cell_type": "code",
      "source": [
        "# Plotting Word Length:\n",
        "def Word_Length_Plot(figsize= (7,5), style= 'bmh', title= 'Word Length',\n",
        "                     axis_x_label = 'Word $t$ in sentence $S$',\n",
        "                     axis_y_label = 'Length $(L)$'):\n",
        "\n",
        "  fig, ax = plt.subplots(nrows=int(1), ncols=int(1),\n",
        "                       sharex=False,\n",
        "                       sharey=False,\n",
        "                       figsize=figsize)\n",
        "\n",
        "  plt.style.use(style)\n",
        "  ax.barh(tokenization, [len(w) for w in tokenization])\n",
        "  ax.set_title(title)\n",
        "  ax.set_xlabel(axis_x_label)\n",
        "  ax.set_ylabel(axis_y_label)\n",
        "  plt.xticks(rotation=None)\n",
        "  plt.show()\n",
        "\n",
        "Word_Length_Plot()"
      ],
      "metadata": {
        "colab": {
          "base_uri": "https://localhost:8080/",
          "height": 489
        },
        "id": "YuE_sp4NizBH",
        "outputId": "304bf51b-bf9d-436e-f562-4b52afdfecab"
      },
      "execution_count": 25,
      "outputs": [
        {
          "output_type": "display_data",
          "data": {
            "text/plain": [
              "<Figure size 700x500 with 1 Axes>"
            ],
            "image/png": "[encoded data removed]"
          },
          "metadata": {}
        }
      ]
    },
    {
      "cell_type": "markdown",
      "source": [
        "### Counter"
      ],
      "metadata": {
        "id": "dOWPsbOKjM02"
      }
    },
    {
      "cell_type": "code",
      "source": [
        "## Counting and Most Common Words:\n",
        "from collections import Counter\n",
        "tokenization = word_tokenize(text= text, language = str(\"english\"), preserve_line=True)\n",
        "print(Counter(_iterable = tokenization))\n",
        "Counter(tokenization).most_common(3)"
      ],
      "metadata": {
        "colab": {
          "base_uri": "https://localhost:8080/"
        },
        "id": "OvAoqA_zizWw",
        "outputId": "71caf0f9-8b2a-49f1-de28-edd4ed8d5244"
      },
      "execution_count": 26,
      "outputs": [
        {
          "output_type": "stream",
          "name": "stdout",
          "text": [
            "Counter({'_iterable': ['Wow', '!', 'The', 'weather', 'today', 'is', 'amazing', '-', '75', 'degrees', 'and', 'sunny.', 'Perfect', 'for', 'a', 'picnic', ',', 'do', \"n't\", 'you', 'think', '?', 'I', \"'m\", 'bringing', 'sandwiches', '&', 'lemonade', ';', 'you', 'bring', 'the', 'frisbee', '!']})\n"
          ]
        },
        {
          "output_type": "execute_result",
          "data": {
            "text/plain": [
              "[('!', 2), ('you', 2), ('Wow', 1)]"
            ]
          },
          "metadata": {},
          "execution_count": 26
        }
      ]
    },
    {
      "cell_type": "markdown",
      "source": [
        "Counter is a subclass of dict that is specifically designed for counting hashable objects. It's essentially a dictionary where keys are the elements being counted and values are their corresponding counts.\n",
        "\n",
        "**Key Features:**\n",
        "\n",
        "- Easy Counting: Automatically counts elements for you.\n",
        "- Dictionary-like Access: Access counts using keys (elements).\n",
        "- Useful Methods: Provides methods for common counting operations, like finding the most common elements (most_common()).\n",
        "\n",
        "**In short, Counter is a handy tool for efficiently counting elements in Python.**"
      ],
      "metadata": {
        "id": "5i0txb5lqqFF"
      }
    },
    {
      "cell_type": "code",
      "source": [
        "## Extracting Words and Digits from text:\n",
        "extract_words = [word for word in word_tokenize(text) if word.isalpha()]\n",
        "print('Extract Words : {}'.format(extract_words))\n",
        "extract_numbers = [num for num in word_tokenize(text) if num.isdigit()]\n",
        "print('Extract Numbers : {}'.format(extract_numbers))\n"
      ],
      "metadata": {
        "colab": {
          "base_uri": "https://localhost:8080/"
        },
        "id": "qmp5NkT3izYi",
        "outputId": "6a38c148-6375-4d95-b25b-96233ed6b3e6"
      },
      "execution_count": 27,
      "outputs": [
        {
          "output_type": "stream",
          "name": "stdout",
          "text": [
            "Extract Words : ['Wow', 'The', 'weather', 'today', 'is', 'amazing', 'degrees', 'and', 'sunny', 'Perfect', 'for', 'a', 'picnic', 'do', 'you', 'think', 'I', 'bringing', 'sandwiches', 'lemonade', 'you', 'bring', 'the', 'frisbee']\n",
            "Extract Numbers : ['75']\n"
          ]
        }
      ]
    },
    {
      "cell_type": "markdown",
      "source": [
        "### Stopwords"
      ],
      "metadata": {
        "id": "9rR8ha6VjPfL"
      }
    },
    {
      "cell_type": "markdown",
      "source": [
        "In Natural Language Processing (NLP), stop words are common words like \"the,\" \"a,\" \"is,\" \"and,\" etc., that are often removed from text before analysis.\n",
        "\n",
        "**Why remove them?**\n",
        "\n",
        "- Reduce noise: Stop words don't usually carry much meaning on their own.\n",
        "- Improve efficiency: Removing them reduces the size of the data, making processing faster.\n",
        "- Focus on important words: Allows analysis to focus on more meaningful words.\n",
        "\n",
        "**Example:**\n",
        "\n",
        "\"The quick brown fox jumps over the lazy dog.\"\n",
        "\n",
        "After removing stop words:\n",
        "\n",
        "\"quick brown fox jumps lazy dog.\""
      ],
      "metadata": {
        "id": "BjwPYy4IjW-D"
      }
    },
    {
      "cell_type": "code",
      "source": [
        "import nltk\n",
        "from nltk.corpus import stopwords\n",
        "\n",
        "nltk.download('stopwords')\n",
        "\n",
        "stop_words = set(stopwords.words('french'))\n",
        "texte = \"Ceci est un exemple de texte avec des stop words.\"\n",
        "mots = texte.split()\n",
        "mots_filtres = [mot for mot in mots if mot.lower() not in stop_words]\n",
        "texte_filtre = \" \".join(mots_filtres)\n",
        "print(texte_filtre)"
      ],
      "metadata": {
        "colab": {
          "base_uri": "https://localhost:8080/"
        },
        "id": "DhUW02WJF_kj",
        "outputId": "aaf4be95-8173-465f-a027-3846a889bf45"
      },
      "execution_count": 28,
      "outputs": [
        {
          "output_type": "stream",
          "name": "stdout",
          "text": [
            "Ceci exemple texte stop words.\n"
          ]
        },
        {
          "output_type": "stream",
          "name": "stderr",
          "text": [
            "[nltk_data] Downloading package stopwords to /root/nltk_data...\n",
            "[nltk_data]   Package stopwords is already up-to-date!\n"
          ]
        }
      ]
    },
    {
      "cell_type": "code",
      "source": [
        "stop_words_en = set(stopwords.words('english')) #List of stopwords in english\n",
        "mots = text.split()\n",
        "mots_filtered = [word.lower() for word in mots if word.lower() not in stop_words_en]"
      ],
      "metadata": {
        "id": "anwa7Kz4jpgA"
      },
      "execution_count": 61,
      "outputs": []
    },
    {
      "cell_type": "code",
      "source": [
        "print('Mots Filtered : {}'.format(mots_filtered))\n",
        "new_text = \" \".join(mots_filtered)\n",
        "print('New Text : {}'.format(new_text))"
      ],
      "metadata": {
        "colab": {
          "base_uri": "https://localhost:8080/"
        },
        "id": "Urke0ntViiaj",
        "outputId": "3b7b4dc0-ee14-4264-982b-40ee96a78c9b"
      },
      "execution_count": 62,
      "outputs": [
        {
          "output_type": "stream",
          "name": "stdout",
          "text": [
            "Mots Filtered : ['wow!', 'weather', 'today', 'amazing', '-', '75', 'degrees', 'sunny.', 'perfect', 'picnic,', 'think?', \"i'm\", 'bringing', 'sandwiches', '&', 'lemonade;', 'bring', 'frisbee!']\n",
            "New Text : wow! weather today amazing - 75 degrees sunny. perfect picnic, think? i'm bringing sandwiches & lemonade; bring frisbee!\n"
          ]
        }
      ]
    },
    {
      "cell_type": "markdown",
      "source": [
        "### Remove Punctuations"
      ],
      "metadata": {
        "id": "2uibmmh2m0dH"
      }
    },
    {
      "cell_type": "markdown",
      "source": [
        "Removing punctuations from the text will help getting a better sentence.\n"
      ],
      "metadata": {
        "id": "8LBUhAM4mqv1"
      }
    },
    {
      "cell_type": "code",
      "source": [
        "import re\n",
        "punctuation_regex = r\"[^\\w\\s]\" # Extracting punctuations from text with regex method\n",
        "re.sub(punctuation_regex, '', new_text)\n",
        "# Remove word with a length of 2 but only for alpha format.\n",
        "final_sentence = [w for w in re.sub(punctuation_regex, '', new_text).split() if len(w)>2 and w.isalpha() or w.isdigit()]\n",
        "print('Final Sentence : {}'.format(final_sentence))\n"
      ],
      "metadata": {
        "colab": {
          "base_uri": "https://localhost:8080/"
        },
        "id": "dIPkgAF_ilmD",
        "outputId": "15aa332e-7a2c-4354-b737-d943c2682822"
      },
      "execution_count": 79,
      "outputs": [
        {
          "output_type": "stream",
          "name": "stdout",
          "text": [
            "Final Sentence : ['wow', 'weather', 'today', 'amazing', '75', 'degrees', 'sunny', 'perfect', 'picnic', 'think', 'bringing', 'sandwiches', 'lemonade', 'bring', 'frisbee']\n"
          ]
        }
      ]
    },
    {
      "cell_type": "markdown",
      "source": [
        "Sentence Tokenization"
      ],
      "metadata": {
        "id": "agTdUSDnq4LW"
      }
    },
    {
      "cell_type": "markdown",
      "source": [
        "**What is sent_tokenize?**\n",
        "\n",
        "sent_tokenize is a function in the Natural Language Toolkit (NLTK) library that is used to split a text into individual sentences. It's a crucial step in many Natural Language Processing (NLP) tasks, as it allows you to work with sentences as individual units.\n",
        "\n",
        "**Explanation:**\n",
        "\n",
        "- sent_tokenize takes the input text and returns a list of sentences.\n",
        "- It uses the Punkt Sentence Tokenizer to identify sentence boundaries based on punctuation and other linguistic cues.\n",
        "- The output is a list where each element is a separate sentence.\n",
        "\n",
        "**Advantages of sent_tokenize:**\n",
        "\n",
        "- Handles various punctuation: It can correctly split sentences based on periods, question marks, exclamation marks, and other punctuation.\n",
        "- Language-specific models: NLTK provides pre-trained models for different languages, making it relatively accurate for various text types.\n",
        "- Easy to use: It's a simple function that requires minimal setup.\n",
        "\n",
        "**Limitations:**\n",
        "\n",
        "- May not be perfect in all cases, especially with complex or unusual sentence structures.\n",
        "- Requires the NLTK library and the Punkt Sentence Tokenizer to be installed.\n",
        "\n",
        "**In summary:**\n",
        "\n",
        "sent_tokenize is a valuable tool for splitting text into sentences, which is a fundamental step in many NLP tasks. It's relatively easy to use and provides good accuracy for most common text types.\n",
        "\n",
        "\n",
        "\n"
      ],
      "metadata": {
        "id": "-rJra08_q-al"
      }
    },
    {
      "cell_type": "code",
      "source": [
        "#Import libraries :\n",
        "from nltk.tokenize import word_tokenize\n",
        "from nltk.tokenize import sent_tokenize\n",
        "from nltk.corpus import stopwords\n",
        "from collections import Counter\n",
        "import spacy\n",
        "\n",
        "nltk.download('stopwords')\n",
        "\n",
        "#Tokenization :\n",
        "sentence_tokenize = sent_tokenize(text)\n",
        "sentence_tokenize\n",
        "\n",
        "#Lower for each sentence :\n",
        "sent_lower = [s.lower() for s in sentence_tokenize]\n",
        "sent_lower\n",
        "\n",
        "#Removing punctuations for each sentence :\n",
        "sentence = []\n",
        "punctuation_regex = r\"[^\\w\\s]\"\n",
        "for j in range(0, len(sentence_tokenize)):\n",
        "  stop_words = set(stopwords.words('english'))\n",
        "\n",
        "  all_punc = re.sub(str(r'[^\\s\\w]'), ' ', sentence_tokenize[j])\n",
        "  sentence.append(all_sentence.lower())\n",
        "\n",
        "sentence"
      ],
      "metadata": {
        "colab": {
          "base_uri": "https://localhost:8080/"
        },
        "id": "9D7jn_yIjTw8",
        "outputId": "0abb8b7d-1c0d-4a75-c902-5a4c43019841"
      },
      "execution_count": 165,
      "outputs": [
        {
          "output_type": "execute_result",
          "data": {
            "text/plain": [
              "['wow ',\n",
              " 'the weather today is amazing   75 degrees and sunny ',\n",
              " 'perfect for a picnic  don t you think ',\n",
              " 'i m bringing sandwiches   lemonade  you bring the frisbee ']"
            ]
          },
          "metadata": {},
          "execution_count": 165
        }
      ]
    },
    {
      "cell_type": "code",
      "source": [
        "cleaned_sentences = []\n",
        "for sentence in sentences:\n",
        "\n",
        "    words = word_tokenize(sentence_tokenize)\n",
        "    cleaned_words = [word for word in words if word.lower() not in stop_words]\n",
        "    cleaned_sentence = \" \".join(cleaned_words)\n",
        "    cleaned_sentences.append(cleaned_sentence)"
      ],
      "metadata": {
        "colab": {
          "base_uri": "https://localhost:8080/",
          "height": 216
        },
        "id": "9eoo1XGM9iLa",
        "outputId": "97a3185e-5b3b-44da-9657-023923c4fcb2"
      },
      "execution_count": 245,
      "outputs": [
        {
          "output_type": "error",
          "ename": "NameError",
          "evalue": "name 'sentences' is not defined",
          "traceback": [
            "\u001b[0;31m---------------------------------------------------------------------------\u001b[0m",
            "\u001b[0;31mNameError\u001b[0m                                 Traceback (most recent call last)",
            "\u001b[0;32m<ipython-input-245-b5cb0c16586a>\u001b[0m in \u001b[0;36m<cell line: 2>\u001b[0;34m()\u001b[0m\n\u001b[1;32m      1\u001b[0m \u001b[0mcleaned_sentences\u001b[0m \u001b[0;34m=\u001b[0m \u001b[0;34m[\u001b[0m\u001b[0;34m]\u001b[0m\u001b[0;34m\u001b[0m\u001b[0;34m\u001b[0m\u001b[0m\n\u001b[0;32m----> 2\u001b[0;31m \u001b[0;32mfor\u001b[0m \u001b[0msentence\u001b[0m \u001b[0;32min\u001b[0m \u001b[0msentences\u001b[0m\u001b[0;34m:\u001b[0m\u001b[0;34m\u001b[0m\u001b[0;34m\u001b[0m\u001b[0m\n\u001b[0m\u001b[1;32m      3\u001b[0m \u001b[0;34m\u001b[0m\u001b[0m\n\u001b[1;32m      4\u001b[0m     \u001b[0mwords\u001b[0m \u001b[0;34m=\u001b[0m \u001b[0mword_tokenize\u001b[0m\u001b[0;34m(\u001b[0m\u001b[0msentence_tokenize\u001b[0m\u001b[0;34m)\u001b[0m\u001b[0;34m\u001b[0m\u001b[0;34m\u001b[0m\u001b[0m\n\u001b[1;32m      5\u001b[0m     \u001b[0mcleaned_words\u001b[0m \u001b[0;34m=\u001b[0m \u001b[0;34m[\u001b[0m\u001b[0mword\u001b[0m \u001b[0;32mfor\u001b[0m \u001b[0mword\u001b[0m \u001b[0;32min\u001b[0m \u001b[0mwords\u001b[0m \u001b[0;32mif\u001b[0m \u001b[0mword\u001b[0m\u001b[0;34m.\u001b[0m\u001b[0mlower\u001b[0m\u001b[0;34m(\u001b[0m\u001b[0;34m)\u001b[0m \u001b[0;32mnot\u001b[0m \u001b[0;32min\u001b[0m \u001b[0mstop_words\u001b[0m\u001b[0;34m]\u001b[0m\u001b[0;34m\u001b[0m\u001b[0;34m\u001b[0m\u001b[0m\n",
            "\u001b[0;31mNameError\u001b[0m: name 'sentences' is not defined"
          ]
        }
      ]
    },
    {
      "cell_type": "code",
      "source": [
        "sentences = sent_tokenize(text)\n",
        "cleaned_sentences = []\n",
        "for i in sentences:\n",
        "  words = word_tokenize(i)\n",
        "  clean_words = [w for w in words if w.lower() not in stop_words]\n",
        "  join = \" \".join(clean_words)\n",
        "  cleaned_sentences.append(join)\n",
        "\n",
        "print(join)"
      ],
      "metadata": {
        "colab": {
          "base_uri": "https://localhost:8080/"
        },
        "id": "shzDOmu49nz_",
        "outputId": "dfae4609-746d-4b8c-8c0a-64f3ac074594"
      },
      "execution_count": 267,
      "outputs": [
        {
          "output_type": "stream",
          "name": "stdout",
          "text": [
            "'m bringing sandwiches & lemonade ; bring frisbee !\n"
          ]
        }
      ]
    },
    {
      "cell_type": "code",
      "source": [
        "cleaned_sentences = []\n",
        "for sentence in sentence_tokenize:\n",
        "    words = word_tokenize(sentence)\n",
        "    cleaned_words = [word for word in words if word.lower() not in stop_words]\n",
        "    cleaned_sentence = \" \".join(cleaned_words)\n",
        "    cleaned_sentences.append(cleaned_sentence)\n",
        "\n",
        "jjj = []\n",
        "for sentence in range(0, len(cleaned_sentences)):\n",
        "  pattern = r\"[^\\s\\w]\"\n",
        "  cl = [w for w in re.sub(pattern, '', cleaned_sentences[sentence])]\n",
        "  c = \"\".join(cl)\n",
        "  jjj.append(c)\n",
        "\n",
        "jjj"
      ],
      "metadata": {
        "colab": {
          "base_uri": "https://localhost:8080/"
        },
        "id": "NkZSu_Px9rEN",
        "outputId": "ad923a64-b76b-455d-d92e-aa2c1127476f"
      },
      "execution_count": 302,
      "outputs": [
        {
          "output_type": "execute_result",
          "data": {
            "text/plain": [
              "['Wow ',\n",
              " 'weather today amazing  75 degrees sunny ',\n",
              " 'Perfect picnic  nt think ',\n",
              " 'm bringing sandwiches  lemonade  bring frisbee ']"
            ]
          },
          "metadata": {},
          "execution_count": 302
        }
      ]
    },
    {
      "cell_type": "code",
      "source": [
        "pattern = r\"[^\\s\\w]\"\n",
        "re.sub(pattern, '', cleaned_sentences[0])\n"
      ],
      "metadata": {
        "colab": {
          "base_uri": "https://localhost:8080/",
          "height": 35
        },
        "id": "SCgO19ep96_v",
        "outputId": "04963273-bdf9-46ea-dfe1-95477ca956db"
      },
      "execution_count": 284,
      "outputs": [
        {
          "output_type": "execute_result",
          "data": {
            "text/plain": [
              "'Wow '"
            ],
            "application/vnd.google.colaboratory.intrinsic+json": {
              "type": "string"
            }
          },
          "metadata": {},
          "execution_count": 284
        }
      ]
    },
    {
      "cell_type": "code",
      "source": [
        "cleaned_sentences[0]"
      ],
      "metadata": {
        "colab": {
          "base_uri": "https://localhost:8080/",
          "height": 35
        },
        "id": "Ng9YMaEkAns_",
        "outputId": "8dbc54b4-5730-4769-91ae-1caecf109fae"
      },
      "execution_count": 286,
      "outputs": [
        {
          "output_type": "execute_result",
          "data": {
            "text/plain": [
              "'Wow !'"
            ],
            "application/vnd.google.colaboratory.intrinsic+json": {
              "type": "string"
            }
          },
          "metadata": {},
          "execution_count": 286
        }
      ]
    },
    {
      "cell_type": "code",
      "source": [],
      "metadata": {
        "id": "2kYKmt4o_ZSG"
      },
      "execution_count": null,
      "outputs": []
    }
  ]
}